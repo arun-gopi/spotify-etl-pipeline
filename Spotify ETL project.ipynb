{
 "cells": [
  {
   "cell_type": "code",
   "execution_count": 3,
   "id": "951d4d2e",
   "metadata": {},
   "outputs": [],
   "source": [
    "import spotipy\n",
    "from spotipy.oauth2 import SpotifyClientCredentials"
   ]
  },
  {
   "cell_type": "code",
   "execution_count": 4,
   "id": "b14f4bf2",
   "metadata": {},
   "outputs": [],
   "source": [
    "auth_manager = SpotifyClientCredentials(client_id='b365439d51864da6a57fea0e5923d960', client_secret='4cabd1a08ce1484b84bd5505bac3f578')"
   ]
  },
  {
   "cell_type": "code",
   "execution_count": 5,
   "id": "016dfe49",
   "metadata": {},
   "outputs": [],
   "source": [
    "sp = spotipy.Spotify(auth_manager=auth_manager)"
   ]
  },
  {
   "cell_type": "code",
   "execution_count": 6,
   "id": "506b14b3",
   "metadata": {},
   "outputs": [],
   "source": [
    "playlist_link ='https://open.spotify.com/playlist/37i9dQZF1DXcBWIGoYBM5M'"
   ]
  },
  {
   "cell_type": "code",
   "execution_count": 9,
   "id": "54d9624c",
   "metadata": {},
   "outputs": [],
   "source": [
    "playlist_uri=playlist_link.split('/')[-1]"
   ]
  },
  {
   "cell_type": "code",
   "execution_count": 11,
   "id": "e9a4f9e2",
   "metadata": {},
   "outputs": [],
   "source": [
    "data=sp.playlist_tracks(playlist_uri)"
   ]
  },
  {
   "cell_type": "code",
   "execution_count": 16,
   "id": "f0eb7363",
   "metadata": {},
   "outputs": [
    {
     "data": {
      "text/plain": [
       "'5gCcb5fsSb6w5K8SyJrgtB'"
      ]
     },
     "execution_count": 16,
     "metadata": {},
     "output_type": "execute_result"
    }
   ],
   "source": [
    "data['items'][0]['track']['album']['id']"
   ]
  },
  {
   "cell_type": "code",
   "execution_count": 17,
   "id": "4b9d2698",
   "metadata": {},
   "outputs": [
    {
     "data": {
      "text/plain": [
       "'WHERE SHE GOES'"
      ]
     },
     "execution_count": 17,
     "metadata": {},
     "output_type": "execute_result"
    }
   ],
   "source": [
    "data['items'][0]['track']['album']['name']"
   ]
  },
  {
   "cell_type": "code",
   "execution_count": 19,
   "id": "18f93e84",
   "metadata": {},
   "outputs": [
    {
     "data": {
      "text/plain": [
       "'2023-05-18'"
      ]
     },
     "execution_count": 19,
     "metadata": {},
     "output_type": "execute_result"
    }
   ],
   "source": [
    "data['items'][0]['track']['album']['release_date']"
   ]
  },
  {
   "cell_type": "code",
   "execution_count": 22,
   "id": "6cbeb163",
   "metadata": {},
   "outputs": [
    {
     "data": {
      "text/plain": [
       "'https://open.spotify.com/album/5gCcb5fsSb6w5K8SyJrgtB'"
      ]
     },
     "execution_count": 22,
     "metadata": {},
     "output_type": "execute_result"
    }
   ],
   "source": [
    "data['items'][0]['track']['album']['external_urls']['spotify']"
   ]
  },
  {
   "cell_type": "code",
   "execution_count": null,
   "id": "15929553",
   "metadata": {},
   "outputs": [],
   "source": []
  }
 ],
 "metadata": {
  "kernelspec": {
   "display_name": "Python 3 (ipykernel)",
   "language": "python",
   "name": "python3"
  },
  "language_info": {
   "codemirror_mode": {
    "name": "ipython",
    "version": 3
   },
   "file_extension": ".py",
   "mimetype": "text/x-python",
   "name": "python",
   "nbconvert_exporter": "python",
   "pygments_lexer": "ipython3",
   "version": "3.9.13"
  }
 },
 "nbformat": 4,
 "nbformat_minor": 5
}
