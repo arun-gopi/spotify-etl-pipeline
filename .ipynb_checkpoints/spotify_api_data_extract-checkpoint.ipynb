{
 "cells": [
  {
   "cell_type": "code",
   "execution_count": null,
   "id": "ca731002",
   "metadata": {},
   "outputs": [],
   "source": [
    "import json\n",
    "import os\n",
    "import spotipy\n",
    "from spotipy.oauth2 import SpotifyClientCredentials\n",
    "import boto3\n",
    "from datetime import datetime\n",
    "\n",
    "def lambda_handler(event, context):\n",
    "    # pull the client id & secret from the env variable\n",
    "    client_id = os.environ.get('client_id')\n",
    "    client_secret = os.environ.get('client_secret')\n",
    "    \n",
    "    #authenticating the spotipy client\n",
    "    auth_manager = SpotifyClientCredentials(client_id=client_id, client_secret=client_secret)\n",
    "    sp = spotipy.Spotify(auth_manager=auth_manager)\n",
    "    \n",
    "    #playlist link\n",
    "    playlist_link ='https://open.spotify.com/playlist/37i9dQZF1DXcBWIGoYBM5M'\n",
    "    playlist_uri=playlist_link.split('/')[-1]\n",
    "    \n",
    "    #extract data from spotify api\n",
    "    spotify_data=sp.playlist_tracks(playlist_uri)\n",
    "    \n",
    "    #connect s3 client\n",
    "    cilent = boto3.client('s3')\n",
    "    \n",
    "    #generate filename using the datetime.now() function\n",
    "    date_string = f'{datetime.now():%Y%m%d%H%M%S%z}'\n",
    "    filename = \"spotify_raw_\" + str(date_string) + \".json\"\n",
    "    \n",
    "    #dump the extracted data in s3 bucket\n",
    "    cilent.put_object(\n",
    "        Bucket=\"spotify-etl-project-arungopi\",\n",
    "        Key=\"raw_data/to_processed/\" + filename,\n",
    "        Body=json.dumps(spotify_data)\n",
    "        )"
   ]
  }
 ],
 "metadata": {
  "kernelspec": {
   "display_name": "Python 3 (ipykernel)",
   "language": "python",
   "name": "python3"
  },
  "language_info": {
   "codemirror_mode": {
    "name": "ipython",
    "version": 3
   },
   "file_extension": ".py",
   "mimetype": "text/x-python",
   "name": "python",
   "nbconvert_exporter": "python",
   "pygments_lexer": "ipython3",
   "version": "3.9.13"
  }
 },
 "nbformat": 4,
 "nbformat_minor": 5
}
